{
 "cells": [
  {
   "cell_type": "code",
   "execution_count": 21,
   "metadata": {},
   "outputs": [],
   "source": [
    "from selenium import webdriver\n",
    "from selenium.webdriver.common.by import By\n",
    "from selenium.webdriver.chrome.service import Service\n",
    "from selenium.webdriver.support.ui import WebDriverWait\n",
    "from selenium.webdriver.support import expected_conditions as EC\n",
    "from webdriver_manager.chrome import ChromeDriverManager\n",
    "\n"
   ]
  },
  {
   "cell_type": "code",
   "execution_count": 23,
   "metadata": {},
   "outputs": [
    {
     "name": "stdout",
     "output_type": "stream",
     "text": [
      "Page 1, Review 1: xols****\n",
      "Page 1, Review 2: rave****\n",
      "Page 1, Review 3: ks91****\n",
      "Page 1, Review 4: skim****\n",
      "Page 1, Review 5: nova****\n",
      "Page 1, Review 6: ices****\n",
      "Page 1, Review 7: 7ghk****\n",
      "Page 1, Review 8: jmh4****\n",
      "Page 1, Review 9: lhbo****\n",
      "Page 1, Review 10: rlat****\n",
      "Page 1, Review 11: ks91****\n",
      "Page 1, Review 12: wyk7****\n",
      "Page 1, Review 13: hpst****\n",
      "Page 1, Review 14: gusw****\n",
      "Page 1, Review 15: qwer****\n",
      "Page 1, Review 16: chom****\n",
      "Page 1, Review 17: jhls****\n",
      "Page 1, Review 18: xxxx****\n",
      "Page 1, Review 19: j6ky****\n",
      "Page 1, Review 20: pkd2****\n",
      "Page 2, Review 1: xols****\n",
      "Page 2, Review 2: rave****\n",
      "Page 2, Review 3: ks91****\n",
      "Page 2, Review 4: dlst****\n",
      "Page 2, Review 5: dlst****\n",
      "Page 2, Review 6: publ****\n",
      "Page 2, Review 7: aa99****\n",
      "Page 2, Review 8: yawn****\n",
      "Page 2, Review 9: slov****\n",
      "Page 2, Review 10: skim****\n",
      "Page 2, Review 11: sdk2****\n",
      "Page 2, Review 12: hole****\n",
      "Page 2, Review 13: zini****\n",
      "Page 2, Review 14: seoh****\n",
      "Page 2, Review 15: lop2****\n",
      "Page 2, Review 16: eni4****\n",
      "Page 2, Review 17: tjd1****\n",
      "Page 2, Review 18: sara****\n",
      "Page 2, Review 19: real****\n",
      "Page 2, Review 20: real****\n"
     ]
    }
   ],
   "source": [
    "# 크롬 드라이버 설정\n",
    "driver = webdriver.Chrome()\n",
    "\n",
    "# 이동할 웹 페이지 열기\n",
    "driver.get(\"https://search.shopping.naver.com/catalog/26052279522?query=%EB%A7%88%EC%9A%B0%EC%8A%A4&NaPm=ct%3Dm0wea688%7Cci%3D23a68a16d154501c6cacce0b0e99e183212c988d%7Ctr%3Dslsl%7Csn%3D95694%7Chk%3D1457fc3e46a40f3772677fdab67ae679c8cf7977\")\n",
    "\n",
    "try:\n",
    "    # 2페이지까지 반복해서 크롤링하도록 설정 (필요에 따라 범위를 조정)\n",
    "    for page in range(1, 3):  # 현재 페이지와 그 다음 페이지\n",
    "        # 각 페이지에서 첫 번째부터 20번째까지의 리뷰 데이터를 크롤링\n",
    "        for i in range(1, 21):  # 1부터 20까지 반복\n",
    "            # CSS Selector를 동적으로 생성\n",
    "            selector = '#section_review > ul > li:nth-child({0}) > div.reviewItems_etc_area__3VUjt > span:nth-child(3)'.format(i)\n",
    "            \n",
    "            # 데이터 추출을 위한 요소 대기 및 선택\n",
    "            review_data = WebDriverWait(driver, 10).until(\n",
    "                EC.visibility_of_element_located((By.CSS_SELECTOR, selector))\n",
    "            )\n",
    "            \n",
    "            # 추출한 데이터 출력\n",
    "            print(f\"Page {page}, Review {i}: {review_data.text}\")\n",
    "        \n",
    "        # 다음 페이지 버튼 클릭\n",
    "        next_page_button = WebDriverWait(driver, 10).until(\n",
    "            EC.element_to_be_clickable((By.XPATH, '//a[@role=\"button\" and contains(text(),\"{0}\")]'.format(page + 1)))\n",
    "        )\n",
    "        next_page_button.click()\n",
    "\n",
    "except Exception as e:\n",
    "    print(\"Error: \", e)\n",
    "finally:\n",
    "    driver.quit()"
   ]
  },
  {
   "cell_type": "code",
   "execution_count": null,
   "metadata": {},
   "outputs": [],
   "source": [
    "\n"
   ]
  }
 ],
 "metadata": {
  "kernelspec": {
   "display_name": "Python 3",
   "language": "python",
   "name": "python3"
  },
  "language_info": {
   "codemirror_mode": {
    "name": "ipython",
    "version": 3
   },
   "file_extension": ".py",
   "mimetype": "text/x-python",
   "name": "python",
   "nbconvert_exporter": "python",
   "pygments_lexer": "ipython3",
   "version": "3.8.3"
  }
 },
 "nbformat": 4,
 "nbformat_minor": 2
}

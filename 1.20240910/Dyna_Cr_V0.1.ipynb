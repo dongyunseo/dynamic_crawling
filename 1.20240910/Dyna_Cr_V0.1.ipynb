{
 "cells": [
  {
   "cell_type": "code",
   "execution_count": 44,
   "metadata": {},
   "outputs": [],
   "source": [
    "from selenium import webdriver\n",
    "from selenium.webdriver.common.by import By\n",
    "from selenium.webdriver.chrome.service import Service\n",
    "from selenium.webdriver.support.ui import WebDriverWait\n",
    "from selenium.webdriver.support import expected_conditions as EC\n",
    "from webdriver_manager.chrome import ChromeDriverManager\n",
    "\n",
    "# 엑셀\n",
    "import openpyxl  # openpyxl 모듈 추가"
   ]
  },
  {
   "cell_type": "code",
   "execution_count": 45,
   "metadata": {},
   "outputs": [
    {
     "name": "stdout",
     "output_type": "stream",
     "text": [
      "Page 1, Review 1: xols****, Context: 일단 배송부터 들어가자면 하루만에 도착했구요 박스는 제가 제공과 한것과 같이 좀 생각보다 꽤 심각하게 도착했구요 어떡하다 이렇게 까지되서 온건진 모르겠지만 좀 기분은 많이 안좋았다\n",
      "Page 1, Review 2: rave****, Context: 1. 23일날 도착해서 27일날 설치 하고 구매한 3개의 제품 다 사용해본 결과 일단 마우스 레이저 바이퍼 8K 제품 같은 경우 하루 밖에 사용 안해봤지만 전에 사용하던 마우스 콕\n",
      "Page 1, Review 3: ks91****, Context: 항상 일반 사무용? 다이소 마우스를 사용하다가 FPS 게임을 좋아해서 이번에 처음 게이밍 마우스를 찾던 중 이 제품이 그렇게 좋다고 해서 구매 했습니다. 정말 일반적인 마우스가 아\n",
      "Page 1, Review 4: skim****, Context: 기존 마우스 사망해서 구입했어요 ㅎ포장박스가 너무 이쁘네요 ㅎㅎ 로지텍 쓰다가 쓰니 감도가 조금 다르긴 하네요 그래도 가볍고 좋아요 ㅎ 클릭소리가 좀 비어있는 곳 두드리는 듯? 가\n",
      "Page 1, Review 5: nova****, Context: 역대급인지 뭔지 이제는 잘 모르겠음. 내돈주고 산 제품이 이렇게 까지 스트레스받을일인줄..바이퍼는 잘쓰고있음. 물론 얘도 유격생겨서 중간에 살짝 끼워놓고 사용중 민감한편이라 조금\n",
      "Page 1, Review 6: ices****, Context: 성능 확실합니다. 특히 정확도랑 반응속도가 굉장히 빨라서 체감이 정말 크게 됩니다. 전에 쓰던 마우스는 바이퍼 마우스였는데 그것보다 휠씬 좋은게 체감됩니다 또 마우스가 굉장히 부드\n",
      "Page 1, Review 7: 7ghk****, Context: 잘받았고 지슈라와g304사용중이였지만 레이저 바이퍼미니로 넘어오고 난뒤로 레이저로 갈아탔는데 상품이 너무좋고 그립감 자체가 저는 바이퍼시리즈가 월등히 좋아서 몇년째 사용중이네요!!\n",
      "Page 1, Review 8: jmh4****, Context: 사용하던 마우스가 더블클릭 증상이 있어서 새로 마우스 구매하게 되었습니다. 수요일에 주문해서 오늘 받았어요. 포장이 처음보는 방식이여서 신가했습니다. 받자마자 잠깐 사용 해봤을 때\n",
      "Page 1, Review 9: lhbo****, Context: 와 정말 너무 만족합니다 지슈라 쓰다가 바이퍼 입문할려고 샀는데 가격도 적당하고 그냥 와…. 무게감도 별차이없고 무엇보다 마감이 지슈라보다 훨 좋습니다ㅠㅠ rgb도 나\n",
      "Page 1, Review 10: rlat****, Context: 2년전에도 사용했고 다시 써봤어요 새것은 역시 상대적으로 클릭감이 살아있네요 8khz, 그립감, 무게, 무게중심 전체적으로 만족스러운 마우스입니다. 손목 부담이 적은게 가장 큰 장\n",
      "Page 1, Review 11: ks91****, Context: 기존 마우스와 확실히 다릅니다. 사용 후기들 보면 cpu를 많이 탄다? 라는 말들이 많았는데 저는 잘 모르겠습니다만! 확실히 8k 에서 오는 응답속도에 대한 정밀도는 기존 1k와는\n",
      "Page 1, Review 12: wyk7****, Context: 만족합니다 기본적인 디자인 심플한 스타일이라서 좋습니다. 아주 정확하고 빠르고 민감합니다. 선도 부드럽고 견고해서 마음에 듭니다. 컴퓨터를 관리해주는 유틸리티 소프트웨어를 같이 사\n",
      "Page 1, Review 13: hpst****, Context: 바이퍼 무선, 바이퍼 유선 사용하다가 바이퍼 8K로 넘어왔습니다 아직까지는 무선 제품보다 유선 제품을 더 선호해서 너무 마음에 드네요.다만 발로란트 할 때 8000폴링레이트 사용시\n",
      "Page 1, Review 14: gusw****, Context: RAZER 제품은 처음구매해봅니다페이커 선수가 광고하는걸 봤습니다페이커 선수는 장비빨이였네요;;(농담입니다♡)너무 만족하고 마우스 클릭 너무 감이 좋고,키보드는 버튼 하나하나 쫀득\n",
      "Page 1, Review 15: qwer****, Context: 폴링레이트 8000의 완벽한 게이밍 마우스 바이퍼 8K현재 바실리스크 V3, 맘바 와이어리스 사용중인데데스에더도 보유중이라 오로치, 나가정도 사면레이저 마우스 시리즈 종류별로 모을\n",
      "Page 1, Review 16: chom****, Context: 로지텍 g102 쓰다가 휠도 고장, 5번 버튼도 고장, 더블 클릭때문에 아예 바이퍼로 바꿨습니다. 크기는 102보다 좀 더 큰 것 같고 마우스 클릭음은 크다기 보단 좀 더 찰칵소리\n",
      "Page 1, Review 17: jhls****, Context: 진짜좋아여 . 손이큰사람 한테는 고민없이 이제품입니다.이제까지 쓰던 로지X은 쓰레기 였네요..ㅠㅠ 완전 신세계입니다. 마우스 하나로 이렇게까지 바뀌다니....놀라울 따름입니다. 게\n",
      "Page 1, Review 18: xxxx****, Context: 와 이거 진짜 한달 사용하면서 남는 오른쪽 사이드 버튼을 레이저 메크로키로 이용하니까 진짜 다른 마우스 쓸때도 무의식적으로 약지로 그쪽 만지작거리게 되면서 어 왜 없지 할정도로 오\n",
      "Page 1, Review 19: j6ky****, Context: 현제 레이저 제품 마우스 이거 포함해서 3개째입니다.데스에도 v2, 바실리스크 유선 있는데 둘다 만족해서 쓰고 있었습니다. 그와중 바피어도 괜찮다는 말을 들었는데 재고가 없어서 구\n",
      "Page 1, Review 20: pkd2****, Context: 본가에선 머큐리 얼티, 자취방에선 사펑 얼티를 사용하고 있어서 인생 마우스 바이퍼를 회사에서도 사용하고 싶고, 무선을 사기엔 회사에 너무 많은 투자를 하는 것 같고, 마침 세일도\n",
      "Excel 파일이 저장되었습니다: C:\\P_Project\\Test1.xlsx\n",
      "Page 2, Review 1: unct****, Context: 바이퍼 울티메이트 대비 훨씬 넓어진 마우스피트로 글라이딩감이 좋아졌습니다. 다만 8K까지 풀링레이트를 올리니 발로란트같은 게임은 이상하게 끊겨서 4000으로 설정하고씁니다. 전반적\n",
      "Page 2, Review 2: show****, Context: 배송이 진짜 빠릅니다.로지텍거만 썻었는데 연에 1개꼴 교체하는 더블클릭으로 레이저거로 바꿔봤습니다. 유연케이블이 진짜 상상이상으로 부드럽네요 저항감이 없어요\n",
      "Page 2, Review 3: mh05****, Context: 기존 G302사용중이었는데 너무 작아서 바꿔봤습니다. 확실히 커서 그립감이 좋고 반응도 괜찮네요. 배송도 빠르게 왔습니다.\n",
      "Page 2, Review 4: dlst****, Context: 마우스가 제손에 딱 맞아서 상당히 만족합니다\n",
      "Page 2, Review 5: dlst****, Context: 가볍고 손에 딱맞아서 좋아요\n",
      "Page 2, Review 6: publ****, Context: 휠이고장나서 새로하나 구매했네요.전에도 바이퍼였는데 ㅜㅜ\n",
      "Page 2, Review 7: aa99****, Context: 생각보다 마우스가 가볍고 편해서 원래 사용했던 로지텍이랑 다르네유\n",
      "Page 2, Review 8: yawn****, Context: 미니로 쓰다가 휠이 고장나서 새로 샀습니다.그립감이며 사용감이 미니보다 좋아요 만족합니다.\n",
      "Page 2, Review 9: slov****, Context: 포장도 너무 깔끔하고 마우스 감도는 역시 말할 것도 없습니다!\n",
      "Page 2, Review 10: skim****, Context: 조금 가벼워서 저한테는 안맞아요.. 가벼운거 좋아하는 친구 줬어요 엄청 만족하네요 ㅎㅎ\n",
      "Page 2, Review 11: sdk2****, Context: 금액이10넘는거라그런지 포장도 좋네요\n",
      "Page 2, Review 12: hole****, Context: 그립감이랑 클릭감 너무 만족스럽네요\n",
      "Page 2, Review 13: zini****, Context: 새로 구매한 마우스인지 그래도 저렴한 마우스보다는 확실히 좋아요\n",
      "Page 2, Review 14: seoh****, Context: 크리스마스 특가로 구매해서 만족합니다포장에 조금만 신경써주셨으면 해요상품른 좋아요~\n",
      "Page 2, Review 15: lop2****, Context: 총알 배송 굿굿입니다늘 레이저 제품 이용중이었는데 사무용으로 또 구입햇네요 디지인도 크기도 늘 만족입니다 굿굿\n",
      "Page 2, Review 16: eni4****, Context: 가성비가 좋다고 할수있어요 아주 좋아요 좋아요 좋아요\n",
      "Page 2, Review 17: tjd1****, Context: 배송빠르게 오고 아주 만족하며 쓰고있습니다.손이 작아서 다른 마우스는 좀 불편했는데 이제품은 크기가 맞아 아주 편하네요.\n",
      "Page 2, Review 18: sara****, Context: 불량이 생길진 좀 써봐야 알겠지만 현재까진 너무 맘에 들었음. 그립감 최고 무게 좋고 내 마우스 찾은느낌쓰... 바이퍼 시리즈 많이 냈으면 좋겠음 바미니도...\n",
      "Page 2, Review 19: real****, Context: 로지텍g102쓰다가 더블클릭 생겨서 급하게 주문했습니다. 레이저는 처음써보는데 살짝 큰데 가볍네요~!시냅스 프로그램도 완성도가 좋은듯!\n",
      "Page 2, Review 20: real****, Context: 정품이구요. 가볍고 전체적인 완성도가 좋네요~단, 광축이라 클릭압력이 약간 높습니다.연타로 클릭 하는분들은 고려해서 구매하셔야 할 듯 해요.\n",
      "Excel 파일이 저장되었습니다: C:\\P_Project\\Test1.xlsx\n"
     ]
    }
   ],
   "source": [
    "# 크롬 드라이버 설정\n",
    "driver = webdriver.Chrome()\n",
    "\n",
    "# 이동할 웹 페이지 열기\n",
    "driver.get(\"https://search.shopping.naver.com/catalog/26052279522?query=%EB%A7%88%EC%9A%B0%EC%8A%A4&NaPm=ct%3Dm0wea688%7Cci%3D23a68a16d154501c6cacce0b0e99e183212c988d%7Ctr%3Dslsl%7Csn%3D95694%7Chk%3D1457fc3e46a40f3772677fdab67ae679c8cf7977\")\n",
    "\n",
    "# 엑셀 파일 생성\n",
    "wb = openpyxl.Workbook()\n",
    "ws = wb.active\n",
    "ws.append([\"Page\", \"Count\", \"Name\", \"Context\"])\n",
    "\n",
    "\n",
    "try:\n",
    "    # 2페이지까지 반복해서 크롤링하도록 설정 (필요에 따라 범위를 조정)\n",
    "    for page in range(1, 3):  # 현재 페이지와 그 다음 페이지\n",
    "        # 각 페이지에서 첫 번째부터 20번째까지의 리뷰 데이터를 크롤링\n",
    "        for i in range(1, 21):  # 1부터 20까지 반복\n",
    "            # CSS Selector를 동적으로 생성\n",
    "            name = '#section_review > ul > li:nth-child({0}) > div.reviewItems_etc_area__3VUjt > span:nth-child(3)'.format(i)\n",
    "            context = '#section_review > ul > li:nth-child({0}) > div.reviewItems_review__DqLYb > div.reviewItems_review_text__dq0kE > em'.format(i)\n",
    "            \n",
    "            # 데이터 추출을 위한 요소 대기 및 선택\n",
    "            name_data = WebDriverWait(driver, 10).until(\n",
    "                EC.visibility_of_element_located((By.CSS_SELECTOR, name))\n",
    "            )\n",
    "            context_data = WebDriverWait(driver,10).until(\n",
    "                EC.visibility_of_element_located((By.CSS_SELECTOR, context))\n",
    "            )\n",
    "            \n",
    "            # 추출한 데이터 출력\n",
    "            print(f\"Page {page}, Review {i}: {name_data.text}, Context: {context_data.text}\")\n",
    "            ws.append([page, i, name_data.text, context_data.text ])\n",
    "            \n",
    "        # 다음 페이지 버튼 클릭\n",
    "        next_page_button = WebDriverWait(driver, 10).until(\n",
    "            EC.element_to_be_clickable((By.XPATH, '//a[@role=\"button\" and contains(text(),\"{0}\")]'.format(page + 1)))\n",
    "        )\n",
    "        \n",
    "        next_page_button.click()\n",
    "\n",
    "        \n",
    "        # 엑셀 파일 저장\n",
    "        file_path = r\"C:\\P_Project\\Test1.xlsx\"\n",
    "        wb.save(file_path)\n",
    "        print(\"Excel 파일이 저장되었습니다:\", file_path)\n",
    "except Exception as e:\n",
    "    print(\"Error: \", e)\n",
    "finally:\n",
    "    driver.quit()"
   ]
  },
  {
   "cell_type": "code",
   "execution_count": null,
   "metadata": {},
   "outputs": [],
   "source": [
    "\n"
   ]
  }
 ],
 "metadata": {
  "kernelspec": {
   "display_name": "Python 3",
   "language": "python",
   "name": "python3"
  },
  "language_info": {
   "codemirror_mode": {
    "name": "ipython",
    "version": 3
   },
   "file_extension": ".py",
   "mimetype": "text/x-python",
   "name": "python",
   "nbconvert_exporter": "python",
   "pygments_lexer": "ipython3",
   "version": "3.8.3"
  }
 },
 "nbformat": 4,
 "nbformat_minor": 2
}
